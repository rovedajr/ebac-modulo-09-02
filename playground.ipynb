{
 "cells": [
  {
   "cell_type": "code",
   "execution_count": 1,
   "metadata": {},
   "outputs": [],
   "source": [
    "import pandas as pd\n",
    "import random\n",
    "\n",
    "# Sample data\n",
    "names = [\n",
    "    \"Alice\",\n",
    "    \"Bob\",\n",
    "    \"Charlie\",\n",
    "    \"David\",\n",
    "    \"Emily\",\n",
    "    \"Frank\",\n",
    "    \"Grace\",\n",
    "    \"Hannah\",\n",
    "    \"Isaac\",\n",
    "    \"Jane\",\n",
    "    \"Katherine\",\n",
    "    \"Liam\",\n",
    "    \"Mia\",\n",
    "    \"Nathan\",\n",
    "    \"Olivia\",\n",
    "    \"Peter\",\n",
    "    \"Quinn\",\n",
    "    \"Rachel\",\n",
    "    \"Samuel\",\n",
    "    \"Taylor\",\n",
    "]\n",
    "\n",
    "ages = [random.randint(18, 60) for _ in range(20)]\n",
    "cities = [\n",
    "    \"New York\",\n",
    "    \"Los Angeles\",\n",
    "    \"Chicago\",\n",
    "    \"Houston\",\n",
    "    \"Phoenix\",\n",
    "    \"Philadelphia\",\n",
    "    \"San Antonio\",\n",
    "    \"San Diego\",\n",
    "    \"Dallas\",\n",
    "    \"San Jose\",\n",
    "    \"Austin\",\n",
    "    \"Jacksonville\",\n",
    "    \"San Francisco\",\n",
    "    \"Columbus\",\n",
    "    \"Indianapolis\",\n",
    "    \"Seattle\",\n",
    "    \"Charlotte\",\n",
    "    \"Denver\",\n",
    "    \"Washington\",\n",
    "    \"Boston\",\n",
    "]\n",
    "\n",
    "# Creating the DataFrame\n",
    "data = {\"name\": names, \"age\": ages, \"city\": cities}\n",
    "df = pd.DataFrame(data)"
   ]
  },
  {
   "cell_type": "code",
   "execution_count": 3,
   "metadata": {},
   "outputs": [
    {
     "data": {
      "text/plain": [
       "count    20.000000\n",
       "mean     35.950000\n",
       "std      13.433951\n",
       "min      18.000000\n",
       "25%      23.750000\n",
       "50%      33.500000\n",
       "75%      43.750000\n",
       "max      60.000000\n",
       "Name: age, dtype: float64"
      ]
     },
     "execution_count": 3,
     "metadata": {},
     "output_type": "execute_result"
    }
   ],
   "source": [
    "df[\"age\"].describe()"
   ]
  },
  {
   "cell_type": "code",
   "execution_count": null,
   "metadata": {},
   "outputs": [],
   "source": []
  }
 ],
 "metadata": {
  "kernelspec": {
   "display_name": "base",
   "language": "python",
   "name": "python3"
  },
  "language_info": {
   "codemirror_mode": {
    "name": "ipython",
    "version": 3
   },
   "file_extension": ".py",
   "mimetype": "text/x-python",
   "name": "python",
   "nbconvert_exporter": "python",
   "pygments_lexer": "ipython3",
   "version": "3.10.12"
  },
  "orig_nbformat": 4
 },
 "nbformat": 4,
 "nbformat_minor": 2
}
